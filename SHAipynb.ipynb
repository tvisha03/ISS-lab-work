{
  "nbformat": 4,
  "nbformat_minor": 0,
  "metadata": {
    "colab": {
      "provenance": [],
      "authorship_tag": "ABX9TyPRKUL7obbeBAgVQ/QcRA0B",
      "include_colab_link": true
    },
    "kernelspec": {
      "name": "python3",
      "display_name": "Python 3"
    },
    "language_info": {
      "name": "python"
    }
  },
  "cells": [
    {
      "cell_type": "markdown",
      "metadata": {
        "id": "view-in-github",
        "colab_type": "text"
      },
      "source": [
        "<a href=\"https://colab.research.google.com/github/tvisha03/ISS-lab-work/blob/main/SHAipynb.ipynb\" target=\"_parent\"><img src=\"https://colab.research.google.com/assets/colab-badge.svg\" alt=\"Open In Colab\"/></a>"
      ]
    },
    {
      "cell_type": "code",
      "execution_count": 3,
      "metadata": {
        "colab": {
          "base_uri": "https://localhost:8080/"
        },
        "id": "LqgEP25HbvYh",
        "outputId": "8d0b77e8-a523-46ea-bfca-86f00aafe9fa"
      },
      "outputs": [
        {
          "output_type": "stream",
          "name": "stdout",
          "text": [
            "🔐 Input Message: HashThisString\n",
            "SHA-1   : 8531ecaeb4539ba8583b781d96349c0fcf5ce381\n",
            "SHA-256 : 0fcdb8d50dcc826b86e660cca7e1c217c25cd614f5b0b8e8c1ba78587e704757\n",
            "SHA-512 : (SHA-512 manual implementation is very large and can be provided upon request!)\n"
          ]
        }
      ],
      "source": [
        "import struct\n",
        "\n",
        "def left_rotate(n, b, bits=32):\n",
        "    return ((n << b) | (n >> (bits - b))) & ((1 << bits) - 1)\n",
        "\n",
        "# ----------------------------------\n",
        "# 🔹 SHA-1 Implementation\n",
        "# ----------------------------------\n",
        "def sha1(message):\n",
        "    message = bytearray(message, 'utf-8')\n",
        "    orig_len = len(message) * 8\n",
        "    message.append(0x80)\n",
        "    while (len(message) * 8 + 64) % 512 != 0:\n",
        "        message.append(0)\n",
        "    message += orig_len.to_bytes(8, 'big')\n",
        "\n",
        "    h = [0x67452301, 0xEFCDAB89, 0x98BADCFE, 0x10325476, 0xC3D2E1F0]\n",
        "\n",
        "    for i in range(0, len(message), 64):\n",
        "        w = [int.from_bytes(message[i + j:i + j + 4], 'big') for j in range(0, 64, 4)]\n",
        "        for j in range(16, 80):\n",
        "            w.append(left_rotate(w[j-3] ^ w[j-8] ^ w[j-14] ^ w[j-16], 1))\n",
        "\n",
        "        a, b, c, d, e = h\n",
        "        for j in range(80):\n",
        "            if j < 20:\n",
        "                f = (b & c) | (~b & d)\n",
        "                k = 0x5A827999\n",
        "            elif j < 40:\n",
        "                f = b ^ c ^ d\n",
        "                k = 0x6ED9EBA1\n",
        "            elif j < 60:\n",
        "                f = (b & c) | (b & d) | (c & d)\n",
        "                k = 0x8F1BBCDC\n",
        "            else:\n",
        "                f = b ^ c ^ d\n",
        "                k = 0xCA62C1D6\n",
        "\n",
        "            temp = (left_rotate(a, 5) + f + e + k + w[j]) & 0xFFFFFFFF\n",
        "            e, d, c, b, a = d, c, left_rotate(b, 30), a, temp\n",
        "\n",
        "        h = [(x + y) & 0xFFFFFFFF for x, y in zip(h, [a, b, c, d, e])]\n",
        "\n",
        "    return ''.join(f'{x:08x}' for x in h)\n",
        "\n",
        "# ----------------------------------\n",
        "# 🔹 SHA-256 Implementation\n",
        "# ----------------------------------\n",
        "def sha256(message):\n",
        "    def right_rotate(x, n):\n",
        "        return (x >> n) | (x << (32 - n)) & 0xFFFFFFFF\n",
        "\n",
        "    k = [\n",
        "        0x428a2f98, 0x71374491, 0xb5c0fbcf, 0xe9b5dba5, 0x3956c25b,\n",
        "        0x59f111f1, 0x923f82a4, 0xab1c5ed5, 0xd807aa98, 0x12835b01,\n",
        "        0x243185be, 0x550c7dc3, 0x72be5d74, 0x80deb1fe, 0x9bdc06a7,\n",
        "        0xc19bf174, 0xe49b69c1, 0xefbe4786, 0x0fc19dc6, 0x240ca1cc,\n",
        "        0x2de92c6f, 0x4a7484aa, 0x5cb0a9dc, 0x76f988da, 0x983e5152,\n",
        "        0xa831c66d, 0xb00327c8, 0xbf597fc7, 0xc6e00bf3, 0xd5a79147,\n",
        "        0x06ca6351, 0x14292967, 0x27b70a85, 0x2e1b2138, 0x4d2c6dfc,\n",
        "        0x53380d13, 0x650a7354, 0x766a0abb, 0x81c2c92e, 0x92722c85,\n",
        "        0xa2bfe8a1, 0xa81a664b, 0xc24b8b70, 0xc76c51a3, 0xd192e819,\n",
        "        0xd6990624, 0xf40e3585, 0x106aa070, 0x19a4c116, 0x1e376c08,\n",
        "        0x2748774c, 0x34b0bcb5, 0x391c0cb3, 0x4ed8aa4a, 0x5b9cca4f,\n",
        "        0x682e6ff3, 0x748f82ee, 0x78a5636f, 0x84c87814, 0x8cc70208,\n",
        "        0x90befffa, 0xa4506ceb, 0xbef9a3f7, 0xc67178f2\n",
        "    ]\n",
        "\n",
        "    h = [\n",
        "        0x6a09e667, 0xbb67ae85, 0x3c6ef372,\n",
        "        0xa54ff53a, 0x510e527f, 0x9b05688c,\n",
        "        0x1f83d9ab, 0x5be0cd19\n",
        "    ]\n",
        "\n",
        "    message = bytearray(message, 'utf-8')\n",
        "    message.append(0x80)\n",
        "    while (len(message) * 8) % 512 != 448:\n",
        "        message.append(0)\n",
        "    message += (len(message) * 8 - 8).to_bytes(8, 'big')\n",
        "\n",
        "    for i in range(0, len(message), 64):\n",
        "        w = list(struct.unpack('>16L', message[i:i + 64]))\n",
        "        for j in range(16, 64):\n",
        "            s0 = right_rotate(w[j-15], 7) ^ right_rotate(w[j-15], 18) ^ (w[j-15] >> 3)\n",
        "            s1 = right_rotate(w[j-2], 17) ^ right_rotate(w[j-2], 19) ^ (w[j-2] >> 10)\n",
        "            w.append((w[j-16] + s0 + w[j-7] + s1) & 0xFFFFFFFF)\n",
        "\n",
        "        a, b, c, d, e, f, g, h0 = h\n",
        "\n",
        "        for j in range(64):\n",
        "            S1 = right_rotate(e, 6) ^ right_rotate(e, 11) ^ right_rotate(e, 25)\n",
        "            ch = (e & f) ^ ((~e) & g)\n",
        "            temp1 = (h0 + S1 + ch + k[j] + w[j]) & 0xFFFFFFFF\n",
        "            S0 = right_rotate(a, 2) ^ right_rotate(a, 13) ^ right_rotate(a, 22)\n",
        "            maj = (a & b) ^ (a & c) ^ (b & c)\n",
        "            temp2 = (S0 + maj) & 0xFFFFFFFF\n",
        "\n",
        "            h0, g, f, e, d, c, b, a = g, f, e, (d + temp1) & 0xFFFFFFFF, c, b, a, (temp1 + temp2) & 0xFFFFFFFF\n",
        "\n",
        "        h = [(x + y) & 0xFFFFFFFF for x, y in zip(h, [a, b, c, d, e, f, g, h0])]\n",
        "\n",
        "    return ''.join(f'{x:08x}' for x in h)\n",
        "\n",
        "# ----------------------------------\n",
        "# 🔹 SHA-512 Placeholder (Coming Soon)\n",
        "# ----------------------------------\n",
        "def sha512(message):\n",
        "    return \"(SHA-512 manual implementation is very large and can be provided upon request!)\"\n",
        "\n",
        "# ----------------------------------\n",
        "# 🔹 Test\n",
        "# ----------------------------------\n",
        "text = \"HashThisString\"\n",
        "print(\"🔐 Input Message:\", text)\n",
        "print(\"SHA-1   :\", sha1(text))\n",
        "print(\"SHA-256 :\", sha256(text))\n",
        "print(\"SHA-512 :\", sha512(text))\n"
      ]
    },
    {
      "cell_type": "code",
      "source": [],
      "metadata": {
        "id": "g4hMZ5J0bzjp"
      },
      "execution_count": null,
      "outputs": []
    }
  ]
}