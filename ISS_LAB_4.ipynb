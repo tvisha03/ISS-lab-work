{
  "nbformat": 4,
  "nbformat_minor": 0,
  "metadata": {
    "colab": {
      "provenance": [],
      "authorship_tag": "ABX9TyN54+4pa7GOHxQIdSpi/R72",
      "include_colab_link": true
    },
    "kernelspec": {
      "name": "python3",
      "display_name": "Python 3"
    },
    "language_info": {
      "name": "python"
    }
  },
  "cells": [
    {
      "cell_type": "markdown",
      "metadata": {
        "id": "view-in-github",
        "colab_type": "text"
      },
      "source": [
        "<a href=\"https://colab.research.google.com/github/tvisha03/ISS-lab-work/blob/main/ISS_LAB_4.ipynb\" target=\"_parent\"><img src=\"https://colab.research.google.com/assets/colab-badge.svg\" alt=\"Open In Colab\"/></a>"
      ]
    },
    {
      "cell_type": "code",
      "execution_count": 1,
      "metadata": {
        "colab": {
          "base_uri": "https://localhost:8080/"
        },
        "id": "7Qwjr6e60t9e",
        "outputId": "2804c661-7d92-4401-b1fe-cb0d54e2567a"
      },
      "outputs": [
        {
          "output_type": "stream",
          "name": "stdout",
          "text": [
            "Enter the text: JAIPUR CITY\n",
            "Enter the key: KEY\n",
            "Encrypted Text: TEGZYP GGDC\n",
            "Decrypted Text: JAIPUR CITY\n"
          ]
        }
      ],
      "source": [
        "def vigenere_encrypt(text, key):\n",
        "    encrypted_text = \"\"\n",
        "    key = key.upper()\n",
        "    key_length = len(key)\n",
        "\n",
        "    for i, char in enumerate(text):\n",
        "        if char.isalpha():\n",
        "            shift = ord(key[i % key_length]) - ord('A')\n",
        "            if char.isupper():\n",
        "                encrypted_text += chr((ord(char) - ord('A') + shift) % 26 + ord('A'))\n",
        "            else:\n",
        "                encrypted_text += chr((ord(char) - ord('a') + shift) % 26 + ord('a'))\n",
        "        else:\n",
        "            encrypted_text += char\n",
        "\n",
        "    return encrypted_text\n",
        "\n",
        "def vigenere_decrypt(cipher_text, key):\n",
        "    decrypted_text = \"\"\n",
        "    key = key.upper()\n",
        "    key_length = len(key)\n",
        "\n",
        "    for i, char in enumerate(cipher_text):\n",
        "        if char.isalpha():\n",
        "            shift = ord(key[i % key_length]) - ord('A')\n",
        "            if char.isupper():\n",
        "                decrypted_text += chr((ord(char) - ord('A') - shift) % 26 + ord('A'))\n",
        "            else:\n",
        "                decrypted_text += chr((ord(char) - ord('a') - shift) % 26 + ord('a'))\n",
        "        else:\n",
        "            decrypted_text += char\n",
        "\n",
        "    return decrypted_text\n",
        "\n",
        "if __name__ == \"__main__\":\n",
        "    text = input(\"Enter the text: \")\n",
        "    key = input(\"Enter the key: \")\n",
        "\n",
        "    encrypted_text = vigenere_encrypt(text, key)\n",
        "    print(\"Encrypted Text:\", encrypted_text)\n",
        "\n",
        "    decrypted_text = vigenere_decrypt(encrypted_text, key)\n",
        "    print(\"Decrypted Text:\", decrypted_text)\n"
      ]
    },
    {
      "cell_type": "code",
      "source": [],
      "metadata": {
        "id": "NhdP8Jia2VBh"
      },
      "execution_count": null,
      "outputs": []
    }
  ]
}