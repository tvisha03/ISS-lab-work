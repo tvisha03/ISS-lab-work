{
  "nbformat": 4,
  "nbformat_minor": 0,
  "metadata": {
    "colab": {
      "provenance": [],
      "authorship_tag": "ABX9TyM5tFyiKVMfn+fRqqWVYhlR",
      "include_colab_link": true
    },
    "kernelspec": {
      "name": "python3",
      "display_name": "Python 3"
    },
    "language_info": {
      "name": "python"
    }
  },
  "cells": [
    {
      "cell_type": "markdown",
      "metadata": {
        "id": "view-in-github",
        "colab_type": "text"
      },
      "source": [
        "<a href=\"https://colab.research.google.com/github/tvisha03/ISS-lab-work/blob/main/ISS_LAB_9.ipynb\" target=\"_parent\"><img src=\"https://colab.research.google.com/assets/colab-badge.svg\" alt=\"Open In Colab\"/></a>"
      ]
    },
    {
      "cell_type": "code",
      "execution_count": 1,
      "metadata": {
        "colab": {
          "base_uri": "https://localhost:8080/"
        },
        "id": "IthQmj9EmfzI",
        "outputId": "a34a03df-9ed9-4940-c657-418028b3449d"
      },
      "outputs": [
        {
          "output_type": "stream",
          "name": "stdout",
          "text": [
            "Public prime (p): 23\n",
            "Generator (g): 5\n",
            "Alice's private key (a): 8\n",
            "Bob's private key (b): 12\n",
            "Alice's public key (A): 16\n",
            "Bob's public key (B): 18\n",
            "Alice's shared secret: 16\n",
            "Bob's shared secret: 16\n",
            "Shared secret match: True\n"
          ]
        }
      ],
      "source": [
        "import random\n",
        "\n",
        "# Power modulo function: Computes (base^exp) % mod\n",
        "def power_mod(base, exp, mod):\n",
        "    result = 1\n",
        "    base = base % mod\n",
        "    while exp > 0:\n",
        "        if exp % 2 == 1:  # If exp is odd\n",
        "            result = (result * base) % mod\n",
        "        exp = exp >> 1  # exp = exp // 2\n",
        "        base = (base * base) % mod\n",
        "    return result\n",
        "\n",
        "# Public parameters\n",
        "p = 23  # A small prime number for demo (in practice, use very large primes)\n",
        "g = 5   # Primitive root modulo p\n",
        "\n",
        "# Private keys\n",
        "a = random.randint(1, p-2)  # Alice's private key\n",
        "b = random.randint(1, p-2)  # Bob's private key\n",
        "\n",
        "# Public keys\n",
        "A = power_mod(g, a, p)  # Alice's public key\n",
        "B = power_mod(g, b, p)  # Bob's public key\n",
        "\n",
        "# Exchange and compute shared secret\n",
        "secret_alice = power_mod(B, a, p)\n",
        "secret_bob = power_mod(A, b, p)\n",
        "\n",
        "print(f\"Public prime (p): {p}\")\n",
        "print(f\"Generator (g): {g}\")\n",
        "print(f\"Alice's private key (a): {a}\")\n",
        "print(f\"Bob's private key (b): {b}\")\n",
        "print(f\"Alice's public key (A): {A}\")\n",
        "print(f\"Bob's public key (B): {B}\")\n",
        "print(f\"Alice's shared secret: {secret_alice}\")\n",
        "print(f\"Bob's shared secret: {secret_bob}\")\n",
        "print(f\"Shared secret match: {secret_alice == secret_bob}\")\n"
      ]
    },
    {
      "cell_type": "code",
      "source": [],
      "metadata": {
        "id": "vpBjjBYmmhQE"
      },
      "execution_count": null,
      "outputs": []
    }
  ]
}