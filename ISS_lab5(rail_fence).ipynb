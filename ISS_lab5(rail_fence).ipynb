{
  "nbformat": 4,
  "nbformat_minor": 0,
  "metadata": {
    "colab": {
      "provenance": [],
      "authorship_tag": "ABX9TyP2zsC6VQQWXFnqvj8x81AN",
      "include_colab_link": true
    },
    "kernelspec": {
      "name": "python3",
      "display_name": "Python 3"
    },
    "language_info": {
      "name": "python"
    }
  },
  "cells": [
    {
      "cell_type": "markdown",
      "metadata": {
        "id": "view-in-github",
        "colab_type": "text"
      },
      "source": [
        "<a href=\"https://colab.research.google.com/github/tvisha03/ISS-lab-work/blob/main/ISS_lab5(rail_fence).ipynb\" target=\"_parent\"><img src=\"https://colab.research.google.com/assets/colab-badge.svg\" alt=\"Open In Colab\"/></a>"
      ]
    },
    {
      "cell_type": "code",
      "execution_count": 1,
      "metadata": {
        "id": "cC9AF0HMKJ_u"
      },
      "outputs": [],
      "source": [
        "def rail_fence_encrypt(text, key):\n",
        "    rail = [['\\n' for _ in range(len(text))] for _ in range(key)]\n",
        "\n",
        "    dir_down = False\n",
        "    row, col = 0, 0\n",
        "\n",
        "    for char in text:\n",
        "        if (row == 0) or (row == key - 1):\n",
        "            dir_down = not dir_down\n",
        "\n",
        "        rail[row][col] = char\n",
        "        col += 1\n",
        "\n",
        "        row += 1 if dir_down else -1\n",
        "\n",
        "    result = []\n",
        "    for i in range(key):\n",
        "        for j in range(len(text)):\n",
        "            if rail[i][j] != '\\n':\n",
        "                result.append(rail[i][j])\n",
        "\n",
        "    return \"\".join(result)\n",
        "\n"
      ]
    },
    {
      "cell_type": "code",
      "source": [
        "def rail_fence_decrypt(cipher, key):\n",
        "    rail = [['\\n' for _ in range(len(cipher))] for _ in range(key)]\n",
        "\n",
        "    dir_down = None\n",
        "    row, col = 0, 0\n",
        "\n",
        "    for i in range(len(cipher)):\n",
        "        if (row == 0):\n",
        "            dir_down = True\n",
        "        if (row == key - 1):\n",
        "            dir_down = False\n",
        "\n",
        "        rail[row][col] = '*'\n",
        "        col += 1\n",
        "\n",
        "        row += 1 if dir_down else -1\n",
        "\n",
        "    index = 0\n",
        "    for i in range(key):\n",
        "        for j in range(len(cipher)):\n",
        "            if ((rail[i][j] == '*') and (index < len(cipher))):\n",
        "                rail[i][j] = cipher[index]\n",
        "                index += 1\n",
        "\n",
        "    result = []\n",
        "    row, col = 0, 0\n",
        "    for i in range(len(cipher)):\n",
        "        if (row == 0):\n",
        "            dir_down = True\n",
        "        if (row == key - 1):\n",
        "            dir_down = False\n",
        "\n",
        "        if (rail[row][col] != '*'):\n",
        "            result.append(rail[row][col])\n",
        "            col += 1\n",
        "\n",
        "        row += 1 if dir_down else -1\n",
        "\n",
        "    return \"\".join(result)\n",
        "\n"
      ],
      "metadata": {
        "id": "lXD7ACdHKQzv"
      },
      "execution_count": 2,
      "outputs": []
    },
    {
      "cell_type": "code",
      "source": [
        "# Example Usage:\n",
        "plaintext = \"HELLOPYTHON\"\n",
        "key = 3\n",
        "\n",
        "cipher_text = rail_fence_encrypt(plaintext, key)\n",
        "print(\"Encrypted Text:\", cipher_text)\n",
        "\n",
        "decrypted_text = rail_fence_decrypt(cipher_text, key)\n",
        "print(\"Decrypted Text:\", decrypted_text)\n"
      ],
      "metadata": {
        "colab": {
          "base_uri": "https://localhost:8080/"
        },
        "id": "PlC3ZSKsKgxq",
        "outputId": "ffc72f3a-8cbe-4d35-9eb6-bf4ae55591de"
      },
      "execution_count": 3,
      "outputs": [
        {
          "output_type": "stream",
          "name": "stdout",
          "text": [
            "Encrypted Text: HOHELPTOLYN\n",
            "Decrypted Text: HELLOPYTHON\n"
          ]
        }
      ]
    },
    {
      "cell_type": "code",
      "source": [],
      "metadata": {
        "id": "qdOtblCZKiTZ"
      },
      "execution_count": null,
      "outputs": []
    }
  ]
}