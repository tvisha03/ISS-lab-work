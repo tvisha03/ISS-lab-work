{
  "nbformat": 4,
  "nbformat_minor": 0,
  "metadata": {
    "colab": {
      "provenance": [],
      "authorship_tag": "ABX9TyPXcq8TVSyJ0OjSR+GAyWjK",
      "include_colab_link": true
    },
    "kernelspec": {
      "name": "python3",
      "display_name": "Python 3"
    },
    "language_info": {
      "name": "python"
    }
  },
  "cells": [
    {
      "cell_type": "markdown",
      "metadata": {
        "id": "view-in-github",
        "colab_type": "text"
      },
      "source": [
        "<a href=\"https://colab.research.google.com/github/tvisha03/ISS-lab-work/blob/main/ISS_LAB_6.ipynb\" target=\"_parent\"><img src=\"https://colab.research.google.com/assets/colab-badge.svg\" alt=\"Open In Colab\"/></a>"
      ]
    },
    {
      "cell_type": "code",
      "execution_count": 1,
      "metadata": {
        "colab": {
          "base_uri": "https://localhost:8080/"
        },
        "id": "mM-p95ZP5fxm",
        "outputId": "57fae2c6-7583-4867-917c-7dbcc2daa557"
      },
      "outputs": [
        {
          "output_type": "stream",
          "name": "stdout",
          "text": [
            "Plaintext:   10101010\n",
            "Encrypted:   10101100\n",
            "Decrypted:   10101010\n"
          ]
        }
      ],
      "source": [
        "def xor(a, b):\n",
        "    \"\"\"Perform XOR operation on two binary strings.\"\"\"\n",
        "    return ''.join(str(int(x) ^ int(y)) for x, y in zip(a, b))\n",
        "\n",
        "def f_function(right, key):\n",
        "    \"\"\"Simple Feistel function: XOR right half with key.\"\"\"\n",
        "    return xor(right, key)\n",
        "\n",
        "def des_encrypt(plaintext, key, rounds=4):\n",
        "    \"\"\"Encrypt using a simplified Feistel network (4 rounds).\"\"\"\n",
        "    left, right = plaintext[:4], plaintext[4:]\n",
        "\n",
        "    for _ in range(rounds):\n",
        "        new_left = right\n",
        "        new_right = xor(left, f_function(right, key))\n",
        "        left, right = new_left, new_right\n",
        "\n",
        "    return left + right\n",
        "\n",
        "def des_decrypt(ciphertext, key, rounds=4):\n",
        "    \"\"\"Decrypt using the same Feistel structure (reversed rounds).\"\"\"\n",
        "    left, right = ciphertext[:4], ciphertext[4:]\n",
        "\n",
        "    for _ in range(rounds):\n",
        "        new_right = left\n",
        "        new_left = xor(right, f_function(left, key))\n",
        "        left, right = new_left, new_right\n",
        "\n",
        "    return left + right\n",
        "\n",
        "# Example Usage\n",
        "plaintext = \"10101010\"  # 8-bit binary input\n",
        "key = \"11001100\"        # 8-bit binary key\n",
        "\n",
        "encrypted_text = des_encrypt(plaintext, key)\n",
        "decrypted_text = des_decrypt(encrypted_text, key)\n",
        "\n",
        "print(\"Plaintext:  \", plaintext)\n",
        "print(\"Encrypted:  \", encrypted_text)\n",
        "print(\"Decrypted:  \", decrypted_text)\n"
      ]
    },
    {
      "cell_type": "code",
      "source": [],
      "metadata": {
        "id": "hrWv0OEL5tR-"
      },
      "execution_count": null,
      "outputs": []
    }
  ]
}