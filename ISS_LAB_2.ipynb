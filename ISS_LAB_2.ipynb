{
  "nbformat": 4,
  "nbformat_minor": 0,
  "metadata": {
    "colab": {
      "provenance": [],
      "authorship_tag": "ABX9TyMVpEyxK7GwbKTlWa8FyZJZ",
      "include_colab_link": true
    },
    "kernelspec": {
      "name": "python3",
      "display_name": "Python 3"
    },
    "language_info": {
      "name": "python"
    }
  },
  "cells": [
    {
      "cell_type": "markdown",
      "metadata": {
        "id": "view-in-github",
        "colab_type": "text"
      },
      "source": [
        "<a href=\"https://colab.research.google.com/github/tvisha03/ISS-lab-work/blob/main/ISS_LAB_2.ipynb\" target=\"_parent\"><img src=\"https://colab.research.google.com/assets/colab-badge.svg\" alt=\"Open In Colab\"/></a>"
      ]
    },
    {
      "cell_type": "code",
      "execution_count": 4,
      "metadata": {
        "colab": {
          "base_uri": "https://localhost:8080/"
        },
        "id": "HRXrhftHbkmK",
        "outputId": "4c16f1b9-338d-46c0-c704-9d92fb4c278e"
      },
      "outputs": [
        {
          "output_type": "stream",
          "name": "stdout",
          "text": [
            "Enter the size of the key matrix (e.g., 2 for 2x2, 3 for 3x3): 2\n",
            "Enter the 2x2 key matrix (column by column) as characters:\n",
            "C D\n",
            "D G\n",
            "Enter the plaintext: ATTACK\n",
            "Encrypted: FKMFIO\n",
            "Decrypted: ATTACK\n"
          ]
        }
      ],
      "source": [
        "import numpy as np\n",
        "\n",
        "def mod_inverse(matrix, modulus):\n",
        "    det = int(np.round(np.linalg.det(matrix)))\n",
        "    det_mod_inverse = pow(det, -1, modulus)\n",
        "    adjugate_matrix = np.round(det * np.linalg.inv(matrix)).astype(int) % modulus\n",
        "    return (det_mod_inverse * adjugate_matrix) % modulus\n",
        "\n",
        "def encrypt_column_major(plaintext, key):\n",
        "    n = len(key)\n",
        "    plaintext = plaintext.upper().replace(\" \", \"\")\n",
        "    while len(plaintext) % n != 0:\n",
        "        plaintext += \"X\"\n",
        "\n",
        "    plaintext_numbers = [ord(char) - ord('A') for char in plaintext]\n",
        "\n",
        "    # Fill plaintext matrix column by column\n",
        "    plaintext_matrix = np.zeros((n, len(plaintext) // n), dtype=int)\n",
        "    for col in range(len(plaintext) // n):\n",
        "        for row in range(n):\n",
        "            plaintext_matrix[row, col] = plaintext_numbers[col * n + row]\n",
        "\n",
        "    ciphertext_matrix = (np.dot(key, plaintext_matrix) % 26).astype(int)\n",
        "\n",
        "    # Flatten column by column\n",
        "    ciphertext = ''.join(chr(ciphertext_matrix[row, col] + ord('A'))\n",
        "                         for col in range(ciphertext_matrix.shape[1])\n",
        "                         for row in range(n))\n",
        "    return ciphertext\n",
        "\n",
        "def decrypt_column_major(ciphertext, key):\n",
        "    n = len(key)\n",
        "    ciphertext = ciphertext.upper().replace(\" \", \"\")\n",
        "    ciphertext_numbers = [ord(char) - ord('A') for char in ciphertext]\n",
        "\n",
        "    # Fill ciphertext matrix column by column\n",
        "    ciphertext_matrix = np.zeros((n, len(ciphertext) // n), dtype=int)\n",
        "    for col in range(len(ciphertext) // n):\n",
        "        for row in range(n):\n",
        "            ciphertext_matrix[row, col] = ciphertext_numbers[col * n + row]\n",
        "\n",
        "    key_inverse = mod_inverse(key, 26)\n",
        "    plaintext_matrix = (np.dot(key_inverse, ciphertext_matrix) % 26).astype(int)\n",
        "\n",
        "    # Flatten column by column\n",
        "    plaintext = ''.join(chr(plaintext_matrix[row, col] + ord('A'))\n",
        "                        for col in range(plaintext_matrix.shape[1])\n",
        "                        for row in range(n))\n",
        "    return plaintext\n",
        "\n",
        "if __name__ == \"__main__\":\n",
        "    key_size = int(input(\"Enter the size of the key matrix (e.g., 2 for 2x2, 3 for 3x3): \"))\n",
        "    print(f\"Enter the {key_size}x{key_size} key matrix (column by column) as characters:\")\n",
        "    key = []\n",
        "    for _ in range(key_size):\n",
        "        column = input().upper().replace(\" \", \"\")\n",
        "        key.append([ord(char) - ord('A') for char in column])\n",
        "    key = np.array(key).T  # Transpose to follow column-major order\n",
        "\n",
        "    plaintext = input(\"Enter the plaintext: \")\n",
        "    ciphertext = encrypt_column_major(plaintext, key)\n",
        "    print(\"Encrypted:\", ciphertext)\n",
        "\n",
        "    decrypted_text = decrypt_column_major(ciphertext, key)\n",
        "    print(\"Decrypted:\", decrypted_text)\n",
        "\n",
        "\n"
      ]
    },
    {
      "cell_type": "code",
      "source": [],
      "metadata": {
        "id": "pGdJH3J9byLi"
      },
      "execution_count": null,
      "outputs": []
    }
  ]
}