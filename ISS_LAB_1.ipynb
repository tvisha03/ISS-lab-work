{
  "nbformat": 4,
  "nbformat_minor": 0,
  "metadata": {
    "colab": {
      "provenance": [],
      "authorship_tag": "ABX9TyPhc/uEFgCDv3f8huhW28k9",
      "include_colab_link": true
    },
    "kernelspec": {
      "name": "python3",
      "display_name": "Python 3"
    },
    "language_info": {
      "name": "python"
    }
  },
  "cells": [
    {
      "cell_type": "markdown",
      "metadata": {
        "id": "view-in-github",
        "colab_type": "text"
      },
      "source": [
        "<a href=\"https://colab.research.google.com/github/tvisha03/ISS-lab-work/blob/main/ISS_LAB_1.ipynb\" target=\"_parent\"><img src=\"https://colab.research.google.com/assets/colab-badge.svg\" alt=\"Open In Colab\"/></a>"
      ]
    },
    {
      "cell_type": "code",
      "execution_count": 1,
      "metadata": {
        "colab": {
          "base_uri": "https://localhost:8080/"
        },
        "id": "7Gv1DIQvgzlI",
        "outputId": "6ab3b34e-ea45-4586-c571-2e50abca88e2"
      },
      "outputs": [
        {
          "output_type": "stream",
          "name": "stdout",
          "text": [
            "Encrypted Text (Caesar Cipher): Khoor Zruog!\n",
            "Decrypted Text (Caesar Cipher): Hello World!\n"
          ]
        }
      ],
      "source": [
        "# Caesar Cipher Implementation\n",
        "def caesar_encrypt(text, shift):\n",
        "    encrypted = \"\"\n",
        "    for char in text:\n",
        "        if char.isalpha():\n",
        "            shift_base = 65 if char.isupper() else 97\n",
        "            encrypted += chr((ord(char) - shift_base + shift) % 26 + shift_base)\n",
        "        else:\n",
        "            encrypted += char\n",
        "    return encrypted\n",
        "\n",
        "def caesar_decrypt(text, shift):\n",
        "    decrypted = \"\"\n",
        "    for char in text:\n",
        "        if char.isalpha():\n",
        "            shift_base = 65 if char.isupper() else 97\n",
        "            decrypted += chr((ord(char) - shift_base - shift) % 26 + shift_base)\n",
        "        else:\n",
        "            decrypted += char\n",
        "    return decrypted\n",
        "\n",
        "# Input and Execution\n",
        "plaintext = \"Hello World!\"\n",
        "shift_key = 3\n",
        "\n",
        "# Encryption\n",
        "ciphertext = caesar_encrypt(plaintext, shift_key)\n",
        "print(\"Encrypted Text (Caesar Cipher):\", ciphertext)\n",
        "\n",
        "# Decryption\n",
        "decrypted_text = caesar_decrypt(ciphertext, shift_key)\n",
        "print(\"Decrypted Text (Caesar Cipher):\", decrypted_text)\n"
      ]
    },
    {
      "cell_type": "code",
      "source": [
        "# Playfair Cipher Implementation\n",
        "def generate_key_matrix(keyword):\n",
        "    matrix = []\n",
        "    seen = set()\n",
        "    for char in keyword.upper().replace(\"J\", \"I\"):\n",
        "        if char not in seen and char.isalpha():\n",
        "            seen.add(char)\n",
        "            matrix.append(char)\n",
        "    for char in \"ABCDEFGHIKLMNOPQRSTUVWXYZ\":\n",
        "        if char not in seen:\n",
        "            seen.add(char)\n",
        "            matrix.append(char)\n",
        "    return [matrix[i:i + 5] for i in range(0, 25, 5)]\n",
        "\n",
        "def find_position(matrix, char):\n",
        "    for row_idx, row in enumerate(matrix):\n",
        "        if char in row:\n",
        "            return row_idx, row.index(char)\n",
        "\n",
        "def playfair_encrypt(matrix, plaintext):\n",
        "    plaintext = plaintext.upper().replace(\"J\", \"I\")\n",
        "    pairs = []\n",
        "    i = 0\n",
        "    while i < len(plaintext):\n",
        "        a = plaintext[i]\n",
        "        b = plaintext[i + 1] if i + 1 < len(plaintext) else \"X\"\n",
        "        if a == b:\n",
        "            b = \"X\"\n",
        "        pairs.append((a, b))\n",
        "        i += 2 if a != b else 1\n",
        "    encrypted = \"\"\n",
        "    for a, b in pairs:\n",
        "        row1, col1 = find_position(matrix, a)\n",
        "        row2, col2 = find_position(matrix, b)\n",
        "        if row1 == row2:\n",
        "            encrypted += matrix[row1][(col1 + 1) % 5] + matrix[row2][(col2 + 1) % 5]\n",
        "        elif col1 == col2:\n",
        "            encrypted += matrix[(row1 + 1) % 5][col1] + matrix[(row2 + 1) % 5][col2]\n",
        "        else:\n",
        "            encrypted += matrix[row1][col2] + matrix[row2][col1]\n",
        "    return encrypted\n",
        "\n"
      ],
      "metadata": {
        "id": "rAaHlGq-hfgo"
      },
      "execution_count": 2,
      "outputs": []
    },
    {
      "cell_type": "code",
      "source": [
        "def playfair_decrypt(matrix, ciphertext):\n",
        "    decrypted = \"\"\n",
        "    for i in range(0, len(ciphertext), 2):\n",
        "        a, b = ciphertext[i], ciphertext[i + 1]\n",
        "        row1, col1 = find_position(matrix, a)\n",
        "        row2, col2 = find_position(matrix, b)\n",
        "        if row1 == row2:\n",
        "            decrypted += matrix[row1][(col1 - 1) % 5] + matrix[row2][(col2 - 1) % 5]\n",
        "        elif col1 == col2:\n",
        "            decrypted += matrix[(row1 - 1) % 5][col1] + matrix[(row2 - 1) % 5][col2]\n",
        "        else:\n",
        "            decrypted += matrix[row1][col2] + matrix[row2][col1]\n",
        "    return decrypted\n",
        "\n",
        "# Input and Execution\n",
        "keyword = \"PLAYFAIR\"\n",
        "plaintext = \"HELLO\"\n",
        "\n",
        "key_matrix = generate_key_matrix(keyword)\n",
        "ciphertext = playfair_encrypt(key_matrix, plaintext)\n",
        "decrypted_text = playfair_decrypt(key_matrix, ciphertext)\n",
        "\n",
        "print(\"Key Matrix:\")\n",
        "for row in key_matrix:\n",
        "    print(row)\n",
        "print(\"\\nEncrypted Text (Playfair Cipher):\", ciphertext)\n",
        "print(\"Decrypted Text (Playfair Cipher):\", decrypted_text)\n"
      ],
      "metadata": {
        "colab": {
          "base_uri": "https://localhost:8080/"
        },
        "id": "q_LPva9xhyqP",
        "outputId": "26773d3d-03e9-4444-b2d8-0fb1f1f684a9"
      },
      "execution_count": 3,
      "outputs": [
        {
          "output_type": "stream",
          "name": "stdout",
          "text": [
            "Key Matrix:\n",
            "['P', 'L', 'A', 'Y', 'F']\n",
            "['I', 'R', 'B', 'C', 'D']\n",
            "['E', 'G', 'H', 'K', 'M']\n",
            "['N', 'O', 'Q', 'S', 'T']\n",
            "['U', 'V', 'W', 'X', 'Z']\n",
            "\n",
            "Encrypted Text (Playfair Cipher): KGYVSV\n",
            "Decrypted Text (Playfair Cipher): HELXOX\n"
          ]
        }
      ]
    },
    {
      "cell_type": "code",
      "source": [],
      "metadata": {
        "id": "lAmmLjkghzsp"
      },
      "execution_count": null,
      "outputs": []
    }
  ]
}