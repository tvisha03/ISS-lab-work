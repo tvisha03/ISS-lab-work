{
  "nbformat": 4,
  "nbformat_minor": 0,
  "metadata": {
    "colab": {
      "provenance": [],
      "include_colab_link": true
    },
    "kernelspec": {
      "name": "python3",
      "display_name": "Python 3"
    },
    "language_info": {
      "name": "python"
    }
  },
  "cells": [
    {
      "cell_type": "markdown",
      "metadata": {
        "id": "view-in-github",
        "colab_type": "text"
      },
      "source": [
        "<a href=\"https://colab.research.google.com/github/tvisha03/ISS-lab-work/blob/main/03_solovay_strassen_primality_test.ipynb\" target=\"_parent\"><img src=\"https://colab.research.google.com/assets/colab-badge.svg\" alt=\"Open In Colab\"/></a>"
      ]
    },
    {
      "cell_type": "code",
      "execution_count": 1,
      "metadata": {
        "id": "4fX80tDjwOV1"
      },
      "outputs": [],
      "source": [
        "# Efficient a^b mod n using square-and-multiply\n",
        "\n",
        "def mod_exp(base, exp, mod):\n",
        "    result = 1\n",
        "    base = base % mod\n",
        "\n",
        "    while exp > 0:\n",
        "        if exp % 2 == 1:\n",
        "            result = (result * base) % mod\n",
        "        exp = exp >> 1  # same as exp // 2\n",
        "        base = (base * base) % mod\n",
        "\n",
        "    return result\n"
      ]
    },
    {
      "cell_type": "code",
      "source": [
        "# Jacobi Symbol (a/n)\n",
        "\n",
        "def jacobi(a, n):\n",
        "    if a == 0:\n",
        "        return 0\n",
        "    if a == 1:\n",
        "        return 1\n",
        "\n",
        "    result = 1\n",
        "    if a < 0:\n",
        "        a = -a\n",
        "        if n % 4 == 3:\n",
        "            result = -result\n",
        "\n",
        "    while a != 0:\n",
        "        while a % 2 == 0:\n",
        "            a = a // 2\n",
        "            if n % 8 in [3, 5]:\n",
        "                result = -result\n",
        "\n",
        "        a, n = n, a  # Law of quadratic reciprocity\n",
        "        if a % 4 == 3 and n % 4 == 3:\n",
        "            result = -result\n",
        "\n",
        "        a = a % n\n",
        "\n",
        "    return result if n == 1 else 0"
      ],
      "metadata": {
        "id": "LyIpEuLZzdpT"
      },
      "execution_count": 2,
      "outputs": []
    },
    {
      "cell_type": "code",
      "source": [
        "import random\n",
        "\n",
        "def solovay_strassen(n, k=5):\n",
        "    if n < 2:\n",
        "        return False\n",
        "    if n == 2 or n == 3:\n",
        "        return True\n",
        "    if n % 2 == 0:\n",
        "        return False  # Even numbers > 2 are not prime\n",
        "\n",
        "    for _ in range(k):\n",
        "        a = random.randint(2, n - 2)\n",
        "        x = jacobi(a, n)\n",
        "        if x == 0:\n",
        "            return False\n",
        "\n",
        "        mod_exp_result = mod_exp(a, (n - 1) // 2, n)\n",
        "\n",
        "        if mod_exp_result != x % n:\n",
        "            return False  # Definitely composite\n",
        "\n",
        "    return True  # Probably prime"
      ],
      "metadata": {
        "id": "_4FcAnQNzett"
      },
      "execution_count": 3,
      "outputs": []
    },
    {
      "cell_type": "code",
      "source": [
        "# Test small known primes and composites\n",
        "\n",
        "for num in [3, 5, 7, 11, 13, 15, 21, 97, 99, 101]:\n",
        "    result = solovay_strassen(num, k=5)\n",
        "    print(f\"{num}: {'Probably Prime' if result else 'Composite'}\")"
      ],
      "metadata": {
        "id": "pJuMDrSazh2W",
        "outputId": "3aa1d81f-033c-49cc-d428-aac265700c53",
        "colab": {
          "base_uri": "https://localhost:8080/"
        }
      },
      "execution_count": 4,
      "outputs": [
        {
          "output_type": "stream",
          "name": "stdout",
          "text": [
            "3: Probably Prime\n",
            "5: Probably Prime\n",
            "7: Probably Prime\n",
            "11: Probably Prime\n",
            "13: Probably Prime\n",
            "15: Composite\n",
            "21: Composite\n",
            "97: Probably Prime\n",
            "99: Composite\n",
            "101: Probably Prime\n"
          ]
        }
      ]
    },
    {
      "cell_type": "code",
      "source": [],
      "metadata": {
        "id": "ANILlcP8zlIp"
      },
      "execution_count": null,
      "outputs": []
    }
  ]
}