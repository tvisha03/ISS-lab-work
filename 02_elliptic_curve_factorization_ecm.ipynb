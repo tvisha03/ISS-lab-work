{
  "nbformat": 4,
  "nbformat_minor": 0,
  "metadata": {
    "colab": {
      "provenance": [],
      "include_colab_link": true
    },
    "kernelspec": {
      "name": "python3",
      "display_name": "Python 3"
    },
    "language_info": {
      "name": "python"
    }
  },
  "cells": [
    {
      "cell_type": "markdown",
      "metadata": {
        "id": "view-in-github",
        "colab_type": "text"
      },
      "source": [
        "<a href=\"https://colab.research.google.com/github/tvisha03/ISS-lab-work/blob/main/02_elliptic_curve_factorization_ecm.ipynb\" target=\"_parent\"><img src=\"https://colab.research.google.com/assets/colab-badge.svg\" alt=\"Open In Colab\"/></a>"
      ]
    },
    {
      "cell_type": "code",
      "execution_count": 1,
      "metadata": {
        "id": "HdlwfKmdoyk3"
      },
      "outputs": [],
      "source": [
        "def gcd(a, b):\n",
        "    # Euclidean algorithm to find GCD\n",
        "    while b:\n",
        "        a, b = b, a % b\n",
        "    return a\n",
        "\n",
        "def modinv(a, n):\n",
        "    # Extended Euclidean Algorithm to compute modular inverse of a mod n\n",
        "    t, new_t = 0, 1\n",
        "    r, new_r = n, a\n",
        "    while new_r != 0:\n",
        "        quotient = r // new_r\n",
        "        t, new_t = new_t, t - quotient * new_t\n",
        "        r, new_r = new_r, r - quotient * new_r\n",
        "    if r > 1:\n",
        "        return None  # No inverse exists\n",
        "    return t % n"
      ]
    },
    {
      "cell_type": "code",
      "source": [
        "def ec_add(P, Q, a, n):\n",
        "    if P == 'INF': return Q\n",
        "    if Q == 'INF': return P\n",
        "\n",
        "    x1, y1 = P\n",
        "    x2, y2 = Q\n",
        "\n",
        "    if x1 == x2 and y1 != y2:\n",
        "        return 'INF'\n",
        "\n",
        "    if P == Q:\n",
        "        numerator = (3 * x1 * x1 + a) % n\n",
        "        denominator = (2 * y1) % n\n",
        "    else:\n",
        "        numerator = (y2 - y1) % n\n",
        "        denominator = (x2 - x1) % n\n",
        "\n",
        "    inv = modinv(denominator, n)\n",
        "    if inv is None:\n",
        "        factor = gcd(denominator, n)\n",
        "        raise ValueError(f\"Factor found! Non-invertible denominator: gcd({denominator}, {n}) = {factor}\")\n",
        "\n",
        "    slope = (numerator * inv) % n\n",
        "    x3 = (slope * slope - x1 - x2) % n\n",
        "    y3 = (slope * (x1 - x3) - y1) % n\n",
        "    return (x3, y3)"
      ],
      "metadata": {
        "id": "0YfSTGCqo3zo"
      },
      "execution_count": 2,
      "outputs": []
    },
    {
      "cell_type": "code",
      "source": [
        "def ec_scalar_mult(k, P, a, n):\n",
        "    R = 'INF'\n",
        "    while k > 0:\n",
        "        if k % 2 == 1:\n",
        "            R = ec_add(R, P, a, n)\n",
        "        P = ec_add(P, P, a, n)\n",
        "        k = k // 2\n",
        "    return R"
      ],
      "metadata": {
        "id": "X3yQKecMo9ce"
      },
      "execution_count": 3,
      "outputs": []
    },
    {
      "cell_type": "code",
      "source": [
        "import random\n",
        "\n",
        "def elliptic_curve_factorization(n):\n",
        "    print(f\"Trying to factor: {n}\")\n",
        "\n",
        "    while True:\n",
        "        x = random.randint(1, n - 1)\n",
        "        y = random.randint(1, n - 1)\n",
        "        a = random.randint(1, n - 1)\n",
        "        b = (y*y - x*x*x - a*x) % n\n",
        "\n",
        "        print(f\"Using curve: y^2 = x^3 + {a}x + {b} mod {n}\")\n",
        "        print(f\"Starting point: P = ({x}, {y})\")\n",
        "\n",
        "        try:\n",
        "            P = (x, y)\n",
        "            for k in range(2, 100):  # Try increasing scalar multipliers\n",
        "                P = ec_scalar_mult(k, P, a, n)\n",
        "        except ValueError as e:\n",
        "            print(str(e))\n",
        "            break\n"
      ],
      "metadata": {
        "id": "5X3gigK_pAbS"
      },
      "execution_count": 4,
      "outputs": []
    },
    {
      "cell_type": "code",
      "source": [
        "# Example: Try factoring 8051 = 97 * 83\n",
        "n = 10403\n",
        "\n",
        "elliptic_curve_factorization(n)"
      ],
      "metadata": {
        "colab": {
          "base_uri": "https://localhost:8080/"
        },
        "id": "VYO0z8QbpDCX",
        "outputId": "6d4d53d0-50a0-418f-bcb7-c428ba461a19"
      },
      "execution_count": 5,
      "outputs": [
        {
          "output_type": "stream",
          "name": "stdout",
          "text": [
            "Trying to factor: 10403\n",
            "Using curve: y^2 = x^3 + 8213x + 2043 mod 10403\n",
            "Starting point: P = (9816, 1410)\n",
            "Factor found! Non-invertible denominator: gcd(7777, 10403) = 101\n"
          ]
        }
      ]
    },
    {
      "cell_type": "code",
      "source": [],
      "metadata": {
        "id": "xEPtDHcbpGNd"
      },
      "execution_count": null,
      "outputs": []
    }
  ]
}