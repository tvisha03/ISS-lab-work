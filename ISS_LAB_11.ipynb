{
  "nbformat": 4,
  "nbformat_minor": 0,
  "metadata": {
    "colab": {
      "provenance": [],
      "authorship_tag": "ABX9TyMrZJLAjfYqf/hX3/4Sd8OH",
      "include_colab_link": true
    },
    "kernelspec": {
      "name": "python3",
      "display_name": "Python 3"
    },
    "language_info": {
      "name": "python"
    }
  },
  "cells": [
    {
      "cell_type": "markdown",
      "metadata": {
        "id": "view-in-github",
        "colab_type": "text"
      },
      "source": [
        "<a href=\"https://colab.research.google.com/github/tvisha03/ISS-lab-work/blob/main/ISS_LAB_11.ipynb\" target=\"_parent\"><img src=\"https://colab.research.google.com/assets/colab-badge.svg\" alt=\"Open In Colab\"/></a>"
      ]
    },
    {
      "cell_type": "code",
      "execution_count": 1,
      "metadata": {
        "colab": {
          "base_uri": "https://localhost:8080/"
        },
        "id": "bJ_Zw8p6cvXw",
        "outputId": "3a6966c7-e1ea-45a7-e37a-efa72cb98328"
      },
      "outputs": [
        {
          "output_type": "stream",
          "name": "stdout",
          "text": [
            "📩 Message: DSS message signing\n",
            "🔐 Signature: r = 5583 , s = 425\n",
            "❌ Signature Invalid\n"
          ]
        }
      ],
      "source": [
        "import hashlib\n",
        "import random\n",
        "\n",
        "# Utility: Modular inverse\n",
        "def modinv(a, m):\n",
        "    # Extended Euclidean Algorithm\n",
        "    m0, x0, x1 = m, 0, 1\n",
        "    while a > 1:\n",
        "        q = a // m\n",
        "        m, a = a % m, m\n",
        "        x0, x1 = x1 - q * x0, x0\n",
        "    return x1 % m0\n",
        "\n",
        "# Utility: SHA-1 Hashing\n",
        "def sha1_hash(message):\n",
        "    return int(hashlib.sha1(message.encode()).hexdigest(), 16)\n",
        "\n",
        "# Step 1: Parameter Generation (small primes for demo purposes)\n",
        "def generate_parameters():\n",
        "    q = 7879  # small prime\n",
        "    p = 59359  # p = kq + 1\n",
        "    g = 2  # Generator\n",
        "    return p, q, g\n",
        "\n",
        "# Step 2: Key Generation\n",
        "def generate_keys(p, q, g):\n",
        "    x = random.randint(1, q - 1)        # Private key\n",
        "    y = pow(g, x, p)                    # Public key\n",
        "    return x, y\n",
        "\n",
        "# Step 3: Signing\n",
        "def sign(message, p, q, g, x):\n",
        "    H = sha1_hash(message)\n",
        "    while True:\n",
        "        k = random.randint(1, q - 1)\n",
        "        r = pow(g, k, p) % q\n",
        "        if r == 0:\n",
        "            continue\n",
        "        try:\n",
        "            k_inv = modinv(k, q)\n",
        "        except:\n",
        "            continue\n",
        "        s = (k_inv * (H + x * r)) % q\n",
        "        if s != 0:\n",
        "            break\n",
        "    return r, s\n",
        "\n",
        "# Step 4: Verification\n",
        "def verify(message, r, s, p, q, g, y):\n",
        "    if not (0 < r < q and 0 < s < q):\n",
        "        return False\n",
        "    H = sha1_hash(message)\n",
        "    w = modinv(s, q)\n",
        "    u1 = (H * w) % q\n",
        "    u2 = (r * w) % q\n",
        "    v = ((pow(g, u1, p) * pow(y, u2, p)) % p) % q\n",
        "    return v == r\n",
        "\n",
        "# Run the DSS scheme\n",
        "p, q, g = generate_parameters()\n",
        "x, y = generate_keys(p, q, g)\n",
        "\n",
        "message = \"DSS message signing\"\n",
        "r, s = sign(message, p, q, g, x)\n",
        "\n",
        "print(\"📩 Message:\", message)\n",
        "print(\"🔐 Signature: r =\", r, \", s =\", s)\n",
        "\n",
        "# Verification\n",
        "is_valid = verify(message, r, s, p, q, g, y)\n",
        "print(\"✅ Signature Valid?\" if is_valid else \"❌ Signature Invalid\")\n"
      ]
    },
    {
      "cell_type": "code",
      "source": [],
      "metadata": {
        "id": "Syk7MHy-cwF5"
      },
      "execution_count": null,
      "outputs": []
    }
  ]
}