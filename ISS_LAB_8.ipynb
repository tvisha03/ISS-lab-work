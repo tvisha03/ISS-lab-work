{
  "nbformat": 4,
  "nbformat_minor": 0,
  "metadata": {
    "colab": {
      "provenance": [],
      "authorship_tag": "ABX9TyOA8je3cvFA2CjloFRvKlDN",
      "include_colab_link": true
    },
    "kernelspec": {
      "name": "python3",
      "display_name": "Python 3"
    },
    "language_info": {
      "name": "python"
    }
  },
  "cells": [
    {
      "cell_type": "markdown",
      "metadata": {
        "id": "view-in-github",
        "colab_type": "text"
      },
      "source": [
        "<a href=\"https://colab.research.google.com/github/tvisha03/ISS-lab-work/blob/main/ISS_LAB_8.ipynb\" target=\"_parent\"><img src=\"https://colab.research.google.com/assets/colab-badge.svg\" alt=\"Open In Colab\"/></a>"
      ]
    },
    {
      "cell_type": "code",
      "execution_count": 1,
      "metadata": {
        "colab": {
          "base_uri": "https://localhost:8080/"
        },
        "id": "pv6z9-5s7Vtz",
        "outputId": "2afd4ae8-7f2b-4a91-90a7-cd5521f53cf2"
      },
      "outputs": [
        {
          "output_type": "stream",
          "name": "stdout",
          "text": [
            "Encrypted: [1087, 155, 83, 83, 913]\n",
            "Decrypted: HELLO\n"
          ]
        }
      ],
      "source": [
        "import random\n",
        "\n",
        "def gcd(a, b):\n",
        "    while b:\n",
        "        a, b = b, a % b\n",
        "    return a\n",
        "\n",
        "def mod_inverse(e, phi):\n",
        "    for d in range(1, phi):\n",
        "        if (e * d) % phi == 1:\n",
        "            return d\n",
        "    return None\n",
        "\n",
        "def generate_keys():\n",
        "    p, q = 61, 53  # Small prime numbers\n",
        "    n = p * q\n",
        "    phi = (p - 1) * (q - 1)\n",
        "    e = 3\n",
        "    while gcd(e, phi) != 1:\n",
        "        e += 2\n",
        "    d = mod_inverse(e, phi)\n",
        "    return (e, n), (d, n)\n",
        "\n",
        "def rsa_encrypt(plain, public_key):\n",
        "    e, n = public_key\n",
        "    return [(ord(char) ** e) % n for char in plain]\n",
        "\n",
        "def rsa_decrypt(cipher, private_key):\n",
        "    d, n = private_key\n",
        "    return ''.join(chr((char ** d) % n) for char in cipher)\n",
        "\n",
        "public_key, private_key = generate_keys()\n",
        "message = \"HELLO\"\n",
        "enc = rsa_encrypt(message, public_key)\n",
        "dec = rsa_decrypt(enc, private_key)\n",
        "\n",
        "print(\"Encrypted:\", enc)\n",
        "print(\"Decrypted:\", dec)\n",
        "\n",
        "\n"
      ]
    },
    {
      "cell_type": "code",
      "source": [],
      "metadata": {
        "id": "SQzhtX6F7Xl9"
      },
      "execution_count": null,
      "outputs": []
    }
  ]
}